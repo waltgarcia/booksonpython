{
  "nbformat": 4,
  "nbformat_minor": 0,
  "metadata": {
    "colab": {
      "name": "Crash course on python",
      "provenance": [],
      "authorship_tag": "ABX9TyN1wR0IoCas7RBFmaUA2F9Y",
      "include_colab_link": true
    },
    "kernelspec": {
      "name": "python3",
      "display_name": "Python 3"
    },
    "language_info": {
      "name": "python"
    }
  },
  "cells": [
    {
      "cell_type": "markdown",
      "metadata": {
        "id": "view-in-github",
        "colab_type": "text"
      },
      "source": [
        "<a href=\"https://colab.research.google.com/github/waltgarcia/booksonpython/blob/master/Crash_course_on_python.ipynb\" target=\"_parent\"><img src=\"https://colab.research.google.com/assets/colab-badge.svg\" alt=\"Open In Colab\"/></a>"
      ]
    },
    {
      "cell_type": "code",
      "execution_count": null,
      "metadata": {
        "id": "IkevMa0sL4Gh",
        "colab": {
          "base_uri": "https://localhost:8080/"
        },
        "outputId": "234ca749-4c19-4c25-d93a-8614c2e8f3ea"
      },
      "outputs": [
        {
          "output_type": "stream",
          "name": "stdout",
          "text": [
            "Ada Lovelace\n"
          ]
        }
      ],
      "source": [
        "name = \"ada lovelace\"\n",
        "print(name.title())"
      ]
    },
    {
      "cell_type": "code",
      "source": [
        "name = \"Ada Lovelace\"\n",
        "print(name.upper())\n",
        "print(name.lower())"
      ],
      "metadata": {
        "colab": {
          "base_uri": "https://localhost:8080/"
        },
        "id": "ow_E24vX8V9v",
        "outputId": "27aa1ecb-d9c1-4d88-b2d3-fea9cbb5e3cc"
      },
      "execution_count": null,
      "outputs": [
        {
          "output_type": "stream",
          "name": "stdout",
          "text": [
            "ADA LOVELACE\n",
            "ada lovelace\n"
          ]
        }
      ]
    },
    {
      "cell_type": "code",
      "source": [
        "first_name = \"ada\"\n",
        "last_name = \"lovelace\"\n",
        "full_name = first_name + \" \" + last_name\n",
        "print(full_name)"
      ],
      "metadata": {
        "colab": {
          "base_uri": "https://localhost:8080/"
        },
        "id": "lbNnYmPZ9XaB",
        "outputId": "d2327128-6191-4670-e7fa-dd5e003ddb29"
      },
      "execution_count": null,
      "outputs": [
        {
          "output_type": "stream",
          "name": "stdout",
          "text": [
            "ada lovelace\n"
          ]
        }
      ]
    },
    {
      "cell_type": "code",
      "source": [
        "print (full_name.title())"
      ],
      "metadata": {
        "colab": {
          "base_uri": "https://localhost:8080/"
        },
        "id": "Idz5rFOE9tyC",
        "outputId": "7d6d6348-1a23-4a6b-ce0b-36174c05ed1b"
      },
      "execution_count": null,
      "outputs": [
        {
          "output_type": "stream",
          "name": "stdout",
          "text": [
            "Ada Lovelace\n"
          ]
        }
      ]
    },
    {
      "cell_type": "code",
      "source": [
        "print(\"Hello, \" + full_name.title() + \"!\")"
      ],
      "metadata": {
        "colab": {
          "base_uri": "https://localhost:8080/"
        },
        "id": "aVXkYLfm9yN6",
        "outputId": "f983fb2e-94d9-4394-d293-2eb13bf55dcd"
      },
      "execution_count": null,
      "outputs": [
        {
          "output_type": "stream",
          "name": "stdout",
          "text": [
            "Hello, Ada Lovelace!\n"
          ]
        }
      ]
    },
    {
      "cell_type": "markdown",
      "source": [
        "### Whitespace"
      ],
      "metadata": {
        "id": "STmnzjj1-GOj"
      }
    },
    {
      "cell_type": "code",
      "source": [
        "print(\"Python\")"
      ],
      "metadata": {
        "colab": {
          "base_uri": "https://localhost:8080/"
        },
        "id": "CgzKbpVm-J1v",
        "outputId": "918e61fa-8fd6-4216-ca87-8064d777241f"
      },
      "execution_count": null,
      "outputs": [
        {
          "output_type": "stream",
          "name": "stdout",
          "text": [
            "Python\n"
          ]
        }
      ]
    },
    {
      "cell_type": "code",
      "source": [
        "print(\"\\tPython\")"
      ],
      "metadata": {
        "colab": {
          "base_uri": "https://localhost:8080/"
        },
        "id": "jMamsIvQ-NaI",
        "outputId": "73b3870b-d5d4-450f-e4b9-2d3363db1565"
      },
      "execution_count": null,
      "outputs": [
        {
          "output_type": "stream",
          "name": "stdout",
          "text": [
            "\tPython\n"
          ]
        }
      ]
    },
    {
      "cell_type": "code",
      "source": [
        "print(\"Languages:\\nPython\\nC\\nJavaScript\")"
      ],
      "metadata": {
        "colab": {
          "base_uri": "https://localhost:8080/"
        },
        "id": "ukk1Esns-S7y",
        "outputId": "5b7e4881-122a-444c-d52d-1350b72bd666"
      },
      "execution_count": null,
      "outputs": [
        {
          "output_type": "stream",
          "name": "stdout",
          "text": [
            "Languages:\n",
            "Python\n",
            "C\n",
            "JavaScript\n"
          ]
        }
      ]
    },
    {
      "cell_type": "code",
      "source": [
        "print(\"Languages:\\n\\tPython\\n\\tC\\n\\tJavaScript\")"
      ],
      "metadata": {
        "colab": {
          "base_uri": "https://localhost:8080/"
        },
        "id": "CdIZn785-bKo",
        "outputId": "2b04e797-11e1-4520-dd36-6f4ec4d08843"
      },
      "execution_count": null,
      "outputs": [
        {
          "output_type": "stream",
          "name": "stdout",
          "text": [
            "Languages:\n",
            "\tPython\n",
            "\tC\n",
            "\tJavaScript\n"
          ]
        }
      ]
    },
    {
      "cell_type": "code",
      "source": [
        "favorite_language = \"python\"\n",
        "favorite_language"
      ],
      "metadata": {
        "colab": {
          "base_uri": "https://localhost:8080/",
          "height": 36
        },
        "id": "DQlg81Nm-jS2",
        "outputId": "80272900-6d86-47c3-904c-1561a4499e4d"
      },
      "execution_count": null,
      "outputs": [
        {
          "output_type": "execute_result",
          "data": {
            "text/plain": [
              "'python'"
            ],
            "application/vnd.google.colaboratory.intrinsic+json": {
              "type": "string"
            }
          },
          "metadata": {},
          "execution_count": 14
        }
      ]
    },
    {
      "cell_type": "code",
      "source": [
        "favorite_language.rstrip()"
      ],
      "metadata": {
        "colab": {
          "base_uri": "https://localhost:8080/",
          "height": 36
        },
        "id": "NxPADyDz-w8w",
        "outputId": "62002b44-872c-4f5d-ce9f-d9bdc80160cf"
      },
      "execution_count": null,
      "outputs": [
        {
          "output_type": "execute_result",
          "data": {
            "text/plain": [
              "'python'"
            ],
            "application/vnd.google.colaboratory.intrinsic+json": {
              "type": "string"
            }
          },
          "metadata": {},
          "execution_count": 15
        }
      ]
    },
    {
      "cell_type": "markdown",
      "source": [
        "### Avoiding syntax errors with strings"
      ],
      "metadata": {
        "id": "RKK-3FivBV3J"
      }
    },
    {
      "cell_type": "code",
      "source": [
        "message = \"One of Python's strenghths is its diverse community\"\n",
        "print(message)"
      ],
      "metadata": {
        "colab": {
          "base_uri": "https://localhost:8080/"
        },
        "id": "JTgT2OPn-zpx",
        "outputId": "ab3f2c9e-71fc-49be-e088-200d933f918d"
      },
      "execution_count": null,
      "outputs": [
        {
          "output_type": "stream",
          "name": "stdout",
          "text": [
            "One of Python's strenghths is its diverse community\n"
          ]
        }
      ]
    },
    {
      "cell_type": "code",
      "source": [
        "message = 'One of Pythons's strenghts is its diverse community'\n",
        "print(message)"
      ],
      "metadata": {
        "colab": {
          "base_uri": "https://localhost:8080/",
          "height": 134
        },
        "id": "MiFjPNCpBckn",
        "outputId": "af6b885c-ec8c-431e-91c1-942c2399a050"
      },
      "execution_count": null,
      "outputs": [
        {
          "output_type": "error",
          "ename": "SyntaxError",
          "evalue": "ignored",
          "traceback": [
            "\u001b[0;36m  File \u001b[0;32m\"<ipython-input-17-4fe3105e9f38>\"\u001b[0;36m, line \u001b[0;32m1\u001b[0m\n\u001b[0;31m    message = 'One of Pythons's strenghts is its diverse community'\u001b[0m\n\u001b[0m                              ^\u001b[0m\n\u001b[0;31mSyntaxError\u001b[0m\u001b[0;31m:\u001b[0m invalid syntax\n"
          ]
        }
      ]
    },
    {
      "cell_type": "markdown",
      "source": [
        "### Avoiding type errors with the str() function"
      ],
      "metadata": {
        "id": "XnjhXLQeBzow"
      }
    },
    {
      "cell_type": "code",
      "source": [
        "age = 23\n",
        "message = \"Happy \" + age + \"rd Birthday!\"\n",
        "print(message)"
      ],
      "metadata": {
        "colab": {
          "base_uri": "https://localhost:8080/",
          "height": 208
        },
        "id": "24Z2QY8iBl4d",
        "outputId": "53fbed5f-caa4-43a4-fbb7-011a2a248b78"
      },
      "execution_count": null,
      "outputs": [
        {
          "output_type": "error",
          "ename": "TypeError",
          "evalue": "ignored",
          "traceback": [
            "\u001b[0;31m---------------------------------------------------------------------------\u001b[0m",
            "\u001b[0;31mTypeError\u001b[0m                                 Traceback (most recent call last)",
            "\u001b[0;32m<ipython-input-18-80a141e301d6>\u001b[0m in \u001b[0;36m<module>\u001b[0;34m()\u001b[0m\n\u001b[1;32m      1\u001b[0m \u001b[0mage\u001b[0m \u001b[0;34m=\u001b[0m \u001b[0;36m23\u001b[0m\u001b[0;34m\u001b[0m\u001b[0;34m\u001b[0m\u001b[0m\n\u001b[0;32m----> 2\u001b[0;31m \u001b[0mmessage\u001b[0m \u001b[0;34m=\u001b[0m \u001b[0;34m\"Happy \"\u001b[0m \u001b[0;34m+\u001b[0m \u001b[0mage\u001b[0m \u001b[0;34m+\u001b[0m \u001b[0;34m\"rd Birthday!\"\u001b[0m\u001b[0;34m\u001b[0m\u001b[0;34m\u001b[0m\u001b[0m\n\u001b[0m\u001b[1;32m      3\u001b[0m \u001b[0mprint\u001b[0m\u001b[0;34m(\u001b[0m\u001b[0mmessage\u001b[0m\u001b[0;34m)\u001b[0m\u001b[0;34m\u001b[0m\u001b[0;34m\u001b[0m\u001b[0m\n",
            "\u001b[0;31mTypeError\u001b[0m: can only concatenate str (not \"int\") to str"
          ]
        }
      ]
    },
    {
      "cell_type": "code",
      "source": [
        "message = \"Happy \" + str(age) + \"rd Birthday!\"\n",
        "print(message)"
      ],
      "metadata": {
        "colab": {
          "base_uri": "https://localhost:8080/"
        },
        "id": "CckK1fwsB9Pe",
        "outputId": "0ee9121f-cbb4-4155-90b3-e529f20137f9"
      },
      "execution_count": null,
      "outputs": [
        {
          "output_type": "stream",
          "name": "stdout",
          "text": [
            "Happy 23rd Birthday!\n"
          ]
        }
      ]
    },
    {
      "cell_type": "code",
      "source": [
        "import this"
      ],
      "metadata": {
        "colab": {
          "base_uri": "https://localhost:8080/"
        },
        "id": "d2o39lHeCE3-",
        "outputId": "6456bc9f-0f9b-452e-fe6d-6e90fd2d6e5e"
      },
      "execution_count": null,
      "outputs": [
        {
          "output_type": "stream",
          "name": "stdout",
          "text": [
            "The Zen of Python, by Tim Peters\n",
            "\n",
            "Beautiful is better than ugly.\n",
            "Explicit is better than implicit.\n",
            "Simple is better than complex.\n",
            "Complex is better than complicated.\n",
            "Flat is better than nested.\n",
            "Sparse is better than dense.\n",
            "Readability counts.\n",
            "Special cases aren't special enough to break the rules.\n",
            "Although practicality beats purity.\n",
            "Errors should never pass silently.\n",
            "Unless explicitly silenced.\n",
            "In the face of ambiguity, refuse the temptation to guess.\n",
            "There should be one-- and preferably only one --obvious way to do it.\n",
            "Although that way may not be obvious at first unless you're Dutch.\n",
            "Now is better than never.\n",
            "Although never is often better than *right* now.\n",
            "If the implementation is hard to explain, it's a bad idea.\n",
            "If the implementation is easy to explain, it may be a good idea.\n",
            "Namespaces are one honking great idea -- let's do more of those!\n"
          ]
        }
      ]
    },
    {
      "cell_type": "markdown",
      "source": [
        "## Introducing lists"
      ],
      "metadata": {
        "id": "UlvWl7hpHehy"
      }
    },
    {
      "cell_type": "code",
      "source": [
        "bicycles = [\"trek\", \"cannondale\", \"redline\", \"specialized\"]\n",
        "print(bicycles)"
      ],
      "metadata": {
        "colab": {
          "base_uri": "https://localhost:8080/"
        },
        "id": "2S1V_V03HgXo",
        "outputId": "28a0af87-24a2-45d6-e480-fbcd35a552b1"
      },
      "execution_count": null,
      "outputs": [
        {
          "output_type": "stream",
          "name": "stdout",
          "text": [
            "['trek', 'cannondale', 'redline', 'specialized']\n"
          ]
        }
      ]
    },
    {
      "cell_type": "code",
      "source": [
        "print(bicycles[0])"
      ],
      "metadata": {
        "colab": {
          "base_uri": "https://localhost:8080/"
        },
        "id": "q0KYLJryMti6",
        "outputId": "f92248b1-b305-47b6-e14d-c33e724b313c"
      },
      "execution_count": null,
      "outputs": [
        {
          "output_type": "stream",
          "name": "stdout",
          "text": [
            "trek\n"
          ]
        }
      ]
    },
    {
      "cell_type": "code",
      "source": [
        "print(bicycles[-1])"
      ],
      "metadata": {
        "colab": {
          "base_uri": "https://localhost:8080/"
        },
        "id": "1qDE84J2MwuJ",
        "outputId": "e9eb465c-792a-46aa-dd3f-37eb350ad317"
      },
      "execution_count": null,
      "outputs": [
        {
          "output_type": "stream",
          "name": "stdout",
          "text": [
            "specialized\n"
          ]
        }
      ]
    },
    {
      "cell_type": "code",
      "source": [
        "message = \"My first bicycle was a \" + bicycles[0].title() + \".\"\n",
        "print (message)"
      ],
      "metadata": {
        "colab": {
          "base_uri": "https://localhost:8080/"
        },
        "id": "WM-Vfe5qNvs0",
        "outputId": "0d52d1ec-98b9-4f58-ff19-9adc6d721389"
      },
      "execution_count": null,
      "outputs": [
        {
          "output_type": "stream",
          "name": "stdout",
          "text": [
            "My first bicycle was a Trek.\n"
          ]
        }
      ]
    },
    {
      "cell_type": "code",
      "source": [
        "motorcycles = [\"honda\", \"yamaha\", \"suzuki\"]\n",
        "print (motorcycles)"
      ],
      "metadata": {
        "colab": {
          "base_uri": "https://localhost:8080/"
        },
        "id": "mSZ-29ViN3F_",
        "outputId": "bc4b91af-7018-4d20-a688-1043a2034f44"
      },
      "execution_count": null,
      "outputs": [
        {
          "output_type": "stream",
          "name": "stdout",
          "text": [
            "['honda', 'yamaha', 'suzuki']\n"
          ]
        }
      ]
    },
    {
      "cell_type": "code",
      "source": [
        "motorcycles[0] = \"ducati\"\n",
        "print(motorcycles)"
      ],
      "metadata": {
        "colab": {
          "base_uri": "https://localhost:8080/"
        },
        "id": "t4SVjhhFOCIf",
        "outputId": "79bbe855-66db-4c89-9695-a982f6358539"
      },
      "execution_count": null,
      "outputs": [
        {
          "output_type": "stream",
          "name": "stdout",
          "text": [
            "['ducati', 'yamaha', 'suzuki']\n"
          ]
        }
      ]
    },
    {
      "cell_type": "code",
      "source": [
        "motorcycles.append(\"ducati\")\n",
        "print(motorcycles)"
      ],
      "metadata": {
        "colab": {
          "base_uri": "https://localhost:8080/"
        },
        "id": "OdaLwt1iOGhA",
        "outputId": "9c14f7ee-2d4e-4646-ee92-935e60e4ff9f"
      },
      "execution_count": null,
      "outputs": [
        {
          "output_type": "stream",
          "name": "stdout",
          "text": [
            "['ducati', 'yamaha', 'suzuki', 'ducati']\n"
          ]
        }
      ]
    },
    {
      "cell_type": "code",
      "source": [
        "motorcycles.insert(0, \"ducati\")\n",
        "print(motorcycles)"
      ],
      "metadata": {
        "colab": {
          "base_uri": "https://localhost:8080/"
        },
        "id": "apKZmUfFOLeK",
        "outputId": "a15bbad5-fbb7-4c07-ca22-0d2938c4349b"
      },
      "execution_count": null,
      "outputs": [
        {
          "output_type": "stream",
          "name": "stdout",
          "text": [
            "['ducati', 'ducati', 'yamaha', 'suzuki', 'ducati']\n"
          ]
        }
      ]
    },
    {
      "cell_type": "code",
      "source": [
        "del motorcycles[0]\n",
        "print(motorcycles)"
      ],
      "metadata": {
        "colab": {
          "base_uri": "https://localhost:8080/"
        },
        "id": "cfBUIKhWOT91",
        "outputId": "65e6829a-567f-4686-b88c-e8573ae12a7b"
      },
      "execution_count": null,
      "outputs": [
        {
          "output_type": "stream",
          "name": "stdout",
          "text": [
            "['ducati', 'yamaha', 'suzuki', 'ducati']\n"
          ]
        }
      ]
    },
    {
      "cell_type": "code",
      "source": [
        "motorcycles = [\"honda\", \"yamaha\", \"suzuki\"]\n",
        "print(motorcycles)"
      ],
      "metadata": {
        "colab": {
          "base_uri": "https://localhost:8080/"
        },
        "id": "SDHj5aMIOY0s",
        "outputId": "4f8efbf8-58e6-4a2e-c49c-37bf46e88c92"
      },
      "execution_count": null,
      "outputs": [
        {
          "output_type": "stream",
          "name": "stdout",
          "text": [
            "['honda', 'yamaha', 'suzuki']\n"
          ]
        }
      ]
    },
    {
      "cell_type": "code",
      "source": [
        "popped_motorcycle = motorcycles.pop()\n",
        "print(motorcycles)"
      ],
      "metadata": {
        "id": "vLf7Udq5Omo_",
        "outputId": "c5ee7393-0b8c-47a7-f684-acfd0caa23cf",
        "colab": {
          "base_uri": "https://localhost:8080/"
        }
      },
      "execution_count": null,
      "outputs": [
        {
          "output_type": "stream",
          "name": "stdout",
          "text": [
            "['honda', 'yamaha']\n"
          ]
        }
      ]
    },
    {
      "cell_type": "code",
      "source": [
        "print(popped_motorcycle)"
      ],
      "metadata": {
        "id": "yMLFeGtDOqwp",
        "outputId": "d4dbf79b-ec37-4cbe-ceae-9f68054d8a71",
        "colab": {
          "base_uri": "https://localhost:8080/"
        }
      },
      "execution_count": null,
      "outputs": [
        {
          "output_type": "stream",
          "name": "stdout",
          "text": [
            "suzuki\n"
          ]
        }
      ]
    },
    {
      "cell_type": "code",
      "source": [
        "motorcycles  = [\"honda\", \"yamaha\", \"suzuki\", \"ducati\"]\n",
        "too_expensive = \"ducati\"\n",
        "motorcycles.remove(too_expensive)\n",
        "print(motorcycles)\n",
        "print(\"\\nA \" + too_expensive.title() + \" is too expensive for me.\")\n"
      ],
      "metadata": {
        "id": "XTfJJ6UcOsZM",
        "colab": {
          "base_uri": "https://localhost:8080/"
        },
        "outputId": "4bdf47c1-8fc2-436e-b852-c66a74c75cfd"
      },
      "execution_count": null,
      "outputs": [
        {
          "output_type": "stream",
          "name": "stdout",
          "text": [
            "['honda', 'yamaha', 'suzuki']\n",
            "\n",
            "A Ducati is too expensive for me.\n"
          ]
        }
      ]
    },
    {
      "cell_type": "markdown",
      "source": [
        "### Organizing a list"
      ],
      "metadata": {
        "id": "YAKFrdsappuk"
      }
    },
    {
      "cell_type": "code",
      "source": [
        "cars = [\"bmw\", \"audi\", \"toyota\", \"subaru\"]\n",
        "cars.sort()\n",
        "print(cars)"
      ],
      "metadata": {
        "colab": {
          "base_uri": "https://localhost:8080/"
        },
        "id": "gQ3JI2f5pq4Z",
        "outputId": "29d17bf6-b270-4fc9-926a-33362a1cba18"
      },
      "execution_count": null,
      "outputs": [
        {
          "output_type": "stream",
          "name": "stdout",
          "text": [
            "['audi', 'bmw', 'subaru', 'toyota']\n"
          ]
        }
      ]
    },
    {
      "cell_type": "code",
      "source": [
        "cars.sort(reverse=True)\n",
        "print(cars)"
      ],
      "metadata": {
        "colab": {
          "base_uri": "https://localhost:8080/"
        },
        "id": "kqk_q7aSpwya",
        "outputId": "436b400b-193c-458d-9a90-d8318179e585"
      },
      "execution_count": null,
      "outputs": [
        {
          "output_type": "stream",
          "name": "stdout",
          "text": [
            "['toyota', 'subaru', 'bmw', 'audi']\n"
          ]
        }
      ]
    },
    {
      "cell_type": "code",
      "source": [
        "print (\"Here is the original list:\")\n",
        "print(cars)"
      ],
      "metadata": {
        "colab": {
          "base_uri": "https://localhost:8080/"
        },
        "id": "3p9T744Rp0gH",
        "outputId": "a50e27bb-898e-4ff9-e227-e880a6adf9b9"
      },
      "execution_count": null,
      "outputs": [
        {
          "output_type": "stream",
          "name": "stdout",
          "text": [
            "Here is the original list:\n",
            "['toyota', 'subaru', 'bmw', 'audi']\n"
          ]
        }
      ]
    },
    {
      "cell_type": "code",
      "source": [
        "print(\"\\nHere is the sorted list:\")\n",
        "print(sorted(cars))"
      ],
      "metadata": {
        "colab": {
          "base_uri": "https://localhost:8080/"
        },
        "id": "dbgaRSQhp73N",
        "outputId": "3420acd1-2cb5-4aff-ef6c-82b1e3f51c9f"
      },
      "execution_count": null,
      "outputs": [
        {
          "output_type": "stream",
          "name": "stdout",
          "text": [
            "\n",
            "Here is the sorted list:\n",
            "['audi', 'bmw', 'subaru', 'toyota']\n"
          ]
        }
      ]
    },
    {
      "cell_type": "code",
      "source": [
        "cars = [\"bmw\", \"audi\", \"toyota\", \"subaru\"]\n",
        "print(cars)"
      ],
      "metadata": {
        "colab": {
          "base_uri": "https://localhost:8080/"
        },
        "id": "1rMrAT1iqAql",
        "outputId": "6d00a2a1-a78b-468e-eabe-a6dcec714221"
      },
      "execution_count": null,
      "outputs": [
        {
          "output_type": "stream",
          "name": "stdout",
          "text": [
            "['bmw', 'audi', 'toyota', 'subaru']\n"
          ]
        }
      ]
    },
    {
      "cell_type": "code",
      "source": [
        "cars.reverse()\n",
        "print(cars)"
      ],
      "metadata": {
        "colab": {
          "base_uri": "https://localhost:8080/"
        },
        "id": "vprr70YHqOoF",
        "outputId": "cc580216-cdc8-4bcf-a16d-4abab936e8e5"
      },
      "execution_count": null,
      "outputs": [
        {
          "output_type": "stream",
          "name": "stdout",
          "text": [
            "['subaru', 'toyota', 'audi', 'bmw']\n"
          ]
        }
      ]
    },
    {
      "cell_type": "code",
      "source": [
        "len(cars)"
      ],
      "metadata": {
        "colab": {
          "base_uri": "https://localhost:8080/"
        },
        "id": "ek-Qf0MZqQtM",
        "outputId": "d94ba352-2bac-4c1d-c8ec-cf59849d6ed2"
      },
      "execution_count": null,
      "outputs": [
        {
          "output_type": "execute_result",
          "data": {
            "text/plain": [
              "4"
            ]
          },
          "metadata": {},
          "execution_count": 24
        }
      ]
    },
    {
      "cell_type": "markdown",
      "source": [
        "## Working with lists"
      ],
      "metadata": {
        "id": "_VtIjTVpqif-"
      }
    },
    {
      "cell_type": "code",
      "source": [
        "magicians = [\"alice\", \"david\", \"carolina\"]\n",
        "for magician in magicians:\n",
        "  print(magician)"
      ],
      "metadata": {
        "colab": {
          "base_uri": "https://localhost:8080/"
        },
        "id": "4MRBU5p5qj_C",
        "outputId": "63c9b6e7-8c23-4808-8997-98ea83d5b67e"
      },
      "execution_count": null,
      "outputs": [
        {
          "output_type": "stream",
          "name": "stdout",
          "text": [
            "alice\n",
            "david\n",
            "carolina\n"
          ]
        }
      ]
    },
    {
      "cell_type": "code",
      "source": [
        "magicians = [\"alice\", \"david\", \"carolina\"]\n",
        "for magician in magicians:\n",
        "  print (magician.title() + \", that was a gret trick!\")\n",
        "  print (\"I can't wait to see your next trick, \" + magician.title() + \".\\n\")\n",
        "\n",
        "print (\"Thank you, everyone. That was a great magic show\")"
      ],
      "metadata": {
        "colab": {
          "base_uri": "https://localhost:8080/"
        },
        "id": "KOT_C2ZY4Te4",
        "outputId": "d8127659-dcda-4577-9804-fa0ca9f3c142"
      },
      "execution_count": null,
      "outputs": [
        {
          "output_type": "stream",
          "name": "stdout",
          "text": [
            "Alice, that was a gret trick!\n",
            "I can't wait to see your next trick, Alice.\n",
            "\n",
            "David, that was a gret trick!\n",
            "I can't wait to see your next trick, David.\n",
            "\n",
            "Carolina, that was a gret trick!\n",
            "I can't wait to see your next trick, Carolina.\n",
            "\n",
            "Thank you, everyone. That was a great magic show\n"
          ]
        }
      ]
    },
    {
      "cell_type": "markdown",
      "source": [
        "### Making numerical lists"
      ],
      "metadata": {
        "id": "f8IMd7cMH4Ut"
      }
    },
    {
      "cell_type": "code",
      "source": [
        "for value in range (1, 5):\n",
        "  print(value)"
      ],
      "metadata": {
        "colab": {
          "base_uri": "https://localhost:8080/"
        },
        "id": "4oLn---ZH7lF",
        "outputId": "2dda3b60-cadd-4cac-9532-933e5fbb73c8"
      },
      "execution_count": null,
      "outputs": [
        {
          "output_type": "stream",
          "name": "stdout",
          "text": [
            "1\n",
            "2\n",
            "3\n",
            "4\n"
          ]
        }
      ]
    },
    {
      "cell_type": "code",
      "source": [
        "numbers = list(range(1,6))\n",
        "print(numbers)"
      ],
      "metadata": {
        "colab": {
          "base_uri": "https://localhost:8080/"
        },
        "id": "Urq-cojjH_TF",
        "outputId": "f8c66499-b61c-4c58-f291-78804f36128d"
      },
      "execution_count": null,
      "outputs": [
        {
          "output_type": "stream",
          "name": "stdout",
          "text": [
            "[1, 2, 3, 4, 5]\n"
          ]
        }
      ]
    },
    {
      "cell_type": "code",
      "source": [
        "even_numbers = list(range(2, 11, 2))\n",
        "print(even_numbers)"
      ],
      "metadata": {
        "colab": {
          "base_uri": "https://localhost:8080/"
        },
        "id": "bfBB4jyXJyop",
        "outputId": "59bab77a-a0b9-4951-8217-67b74492123a"
      },
      "execution_count": null,
      "outputs": [
        {
          "output_type": "stream",
          "name": "stdout",
          "text": [
            "[2, 4, 6, 8, 10]\n"
          ]
        }
      ]
    },
    {
      "cell_type": "code",
      "source": [
        "squares = []\n",
        "for value in range(1,20):\n",
        "  square = value**2\n",
        "  squares.append(square)\n",
        "\n",
        "print(squares)"
      ],
      "metadata": {
        "colab": {
          "base_uri": "https://localhost:8080/"
        },
        "id": "uuqG3l7rJ4qA",
        "outputId": "b3e6d1c9-0385-4b4f-c948-51892bef9e4b"
      },
      "execution_count": null,
      "outputs": [
        {
          "output_type": "stream",
          "name": "stdout",
          "text": [
            "[1, 4, 9, 16, 25, 36, 49, 64, 81, 100, 121, 144, 169, 196, 225, 256, 289, 324, 361]\n"
          ]
        }
      ]
    },
    {
      "cell_type": "code",
      "source": [
        "squares = []\n",
        "for value in range(1,20):\n",
        "    squares.append(value**2)\n",
        "\n",
        "print(squares)"
      ],
      "metadata": {
        "colab": {
          "base_uri": "https://localhost:8080/"
        },
        "id": "R347FO24KXH0",
        "outputId": "b98489ad-d074-4fc0-83a5-d5e2c3600127"
      },
      "execution_count": null,
      "outputs": [
        {
          "output_type": "stream",
          "name": "stdout",
          "text": [
            "[1, 4, 9, 16, 25, 36, 49, 64, 81, 100, 121, 144, 169, 196, 225, 256, 289, 324, 361]\n"
          ]
        }
      ]
    },
    {
      "cell_type": "code",
      "source": [
        "digits = [1, 2, 3, 4, 5, 6, 7, 8, 9, 0]\n",
        "min(digits)"
      ],
      "metadata": {
        "colab": {
          "base_uri": "https://localhost:8080/"
        },
        "id": "7RNMM9VdKjLT",
        "outputId": "28e2e613-7209-407a-8263-2df8203eeecc"
      },
      "execution_count": null,
      "outputs": [
        {
          "output_type": "execute_result",
          "data": {
            "text/plain": [
              "0"
            ]
          },
          "metadata": {},
          "execution_count": 42
        }
      ]
    },
    {
      "cell_type": "code",
      "source": [
        "max(digits)"
      ],
      "metadata": {
        "colab": {
          "base_uri": "https://localhost:8080/"
        },
        "id": "Of4kTGYIKs-X",
        "outputId": "d074d392-32b0-4080-cf45-d86c7a5a26b0"
      },
      "execution_count": null,
      "outputs": [
        {
          "output_type": "execute_result",
          "data": {
            "text/plain": [
              "9"
            ]
          },
          "metadata": {},
          "execution_count": 43
        }
      ]
    },
    {
      "cell_type": "code",
      "source": [
        "sum(digits)"
      ],
      "metadata": {
        "colab": {
          "base_uri": "https://localhost:8080/"
        },
        "id": "-1njq9LfKuz-",
        "outputId": "a148a154-30b5-4ced-d4bc-7f00e6821c69"
      },
      "execution_count": null,
      "outputs": [
        {
          "output_type": "execute_result",
          "data": {
            "text/plain": [
              "45"
            ]
          },
          "metadata": {},
          "execution_count": 44
        }
      ]
    },
    {
      "cell_type": "markdown",
      "source": [
        "### List comprehensions"
      ],
      "metadata": {
        "id": "7GTIkTZuMM9s"
      }
    },
    {
      "cell_type": "markdown",
      "source": [
        " A **list comprehension** allows you to generate the same list in just one line of code. A list comprehension combines the for loop and the creation of new elements into one line, and automatically appends each new element.\n"
      ],
      "metadata": {
        "id": "P0MHF0fqMQYK"
      }
    },
    {
      "cell_type": "code",
      "source": [
        "squares = [value**2 for value in range(1,21)]\n",
        "print(squares)"
      ],
      "metadata": {
        "colab": {
          "base_uri": "https://localhost:8080/"
        },
        "id": "ICAgxzfIMavt",
        "outputId": "f3a48815-f1b0-4c60-dea4-ccb0adafff1e"
      },
      "execution_count": null,
      "outputs": [
        {
          "output_type": "stream",
          "name": "stdout",
          "text": [
            "[1, 4, 9, 16, 25, 36, 49, 64, 81, 100, 121, 144, 169, 196, 225, 256, 289, 324, 361, 400]\n"
          ]
        }
      ]
    },
    {
      "cell_type": "markdown",
      "source": [
        "When you're writing three or four lines of code to generate lists and it begins to feel repetitive, consider writing your own list comprehensions."
      ],
      "metadata": {
        "id": "6A2H3i7QMumI"
      }
    },
    {
      "cell_type": "markdown",
      "source": [
        "### Working with part of a list"
      ],
      "metadata": {
        "id": "L9pNRyu2Niwj"
      }
    },
    {
      "cell_type": "code",
      "source": [
        "players = [\"charles\", \"martina\", \"michael\", \"florence\", \"eli\"]\n",
        "print(players[0:3])"
      ],
      "metadata": {
        "colab": {
          "base_uri": "https://localhost:8080/"
        },
        "id": "Ct8KIuoINkiv",
        "outputId": "cdf3f7b4-49bb-42c7-9da5-7b9adb2bea5d"
      },
      "execution_count": null,
      "outputs": [
        {
          "output_type": "stream",
          "name": "stdout",
          "text": [
            "['charles', 'martina', 'michael']\n"
          ]
        }
      ]
    },
    {
      "cell_type": "code",
      "source": [
        "print(players[1:4])"
      ],
      "metadata": {
        "colab": {
          "base_uri": "https://localhost:8080/"
        },
        "id": "BaIsNelXNtc4",
        "outputId": "d49732d7-6bee-4401-dcd7-9a2123f34859"
      },
      "execution_count": null,
      "outputs": [
        {
          "output_type": "stream",
          "name": "stdout",
          "text": [
            "['martina', 'michael', 'florence']\n"
          ]
        }
      ]
    },
    {
      "cell_type": "code",
      "source": [
        "players = [\"charles\", \"martina\", \"michael\", \"florence\", \"eli\"]\n",
        "\n",
        "print (\"Here are the first three players on my team:\")\n",
        "for player in players[:3]:\n",
        "  print(player.title())"
      ],
      "metadata": {
        "colab": {
          "base_uri": "https://localhost:8080/"
        },
        "id": "8RG0c8O2NxNt",
        "outputId": "c458a2c3-03fb-44b9-d816-90ec2ea2184c"
      },
      "execution_count": null,
      "outputs": [
        {
          "output_type": "stream",
          "name": "stdout",
          "text": [
            "Here are the first three players on my team:\n",
            "Charles\n",
            "Martina\n",
            "Michael\n"
          ]
        }
      ]
    },
    {
      "cell_type": "code",
      "source": [
        "my_foods = [\"pizza\", \"falafel\", \"carrot cake\"]\n",
        "friends_foods = my_foods[:]\n",
        "print(friends_foods)"
      ],
      "metadata": {
        "colab": {
          "base_uri": "https://localhost:8080/"
        },
        "id": "eCgeog4wmESf",
        "outputId": "94e8ea96-ea74-41f1-a28a-0283ad731fe3"
      },
      "execution_count": null,
      "outputs": [
        {
          "output_type": "stream",
          "name": "stdout",
          "text": [
            "['pizza', 'falafel', 'carrot cake']\n"
          ]
        }
      ]
    },
    {
      "cell_type": "code",
      "source": [
        "my_foods.append(\"cannoli\")\n",
        "friends_foods.append(\"ice cream\")\n",
        "\n",
        "print (\"My favorite foods are: \")\n",
        "print(my_foods)\n",
        "\n",
        "print(\"\\nMy friend's favorite foods are: \")\n",
        "print(friends_foods)"
      ],
      "metadata": {
        "colab": {
          "base_uri": "https://localhost:8080/"
        },
        "id": "5zUgwK8zmZFj",
        "outputId": "a2b597c7-cdac-42d8-fe5f-c7b6b45bb94d"
      },
      "execution_count": null,
      "outputs": [
        {
          "output_type": "stream",
          "name": "stdout",
          "text": [
            "My favorite foods are: \n",
            "['pizza', 'falafel', 'carrot cake', 'cannoli', 'cannoli']\n",
            "\n",
            "My friend's favorite foods are: \n",
            "['pizza', 'falafel', 'carrot cake', 'ice cream', 'ice cream']\n"
          ]
        }
      ]
    },
    {
      "cell_type": "markdown",
      "source": [
        "## Tuples"
      ],
      "metadata": {
        "id": "fJSB2C8Tm3uo"
      }
    },
    {
      "cell_type": "markdown",
      "source": [
        "Python refers to values that cannot change as immutable, and a immutable list is called a tuple."
      ],
      "metadata": {
        "id": "QMN1CekUm5z1"
      }
    },
    {
      "cell_type": "code",
      "source": [
        "dimensions = (200, 50)\n",
        "print (dimensions[0])"
      ],
      "metadata": {
        "colab": {
          "base_uri": "https://localhost:8080/"
        },
        "id": "kqQrj67km5H2",
        "outputId": "20ff7d22-1965-4354-a0f4-9438edc9ef84"
      },
      "execution_count": null,
      "outputs": [
        {
          "output_type": "stream",
          "name": "stdout",
          "text": [
            "200\n"
          ]
        }
      ]
    },
    {
      "cell_type": "code",
      "source": [
        "for dimension in dimensions:\n",
        "  print(dimension)"
      ],
      "metadata": {
        "colab": {
          "base_uri": "https://localhost:8080/"
        },
        "id": "hqdVJBFzp1TR",
        "outputId": "6a7f7ad3-b13c-45d5-aea0-d9659bae0774"
      },
      "execution_count": null,
      "outputs": [
        {
          "output_type": "stream",
          "name": "stdout",
          "text": [
            "200\n",
            "50\n"
          ]
        }
      ]
    },
    {
      "cell_type": "markdown",
      "source": [
        "Tuples are simple data structures. Use them when you want to store a set of values that should not be changed throughout the life of a program."
      ],
      "metadata": {
        "id": "Nlu0uwt8qKbD"
      }
    },
    {
      "cell_type": "markdown",
      "source": [
        "## Styling your code"
      ],
      "metadata": {
        "id": "UJlegklusbhF"
      }
    },
    {
      "cell_type": "markdown",
      "source": [
        "Python Enhancement Proposal. \n",
        "**PEP 8** -> code is read more often that it is written.\n",
        "\n",
        "There are a few rules: \n",
        "\n",
        "### Indentation\n",
        "PEP 8 recommends that you use four spaces per indentation level.\n",
        "Mixing tabs and spaces in your file can cause problems that are very difficult to diagnose. If you think you have a mix of tabs and spaces, you can vonvert all tabs in a file to spaces in most editors.\n",
        "\n",
        "### Line Lenght\n",
        "Many python programmers recommend that each line should be less than 80 characters. \n",
        "PEP 8 also recommends that you limit all of your comments to 72 characters per line.\n",
        "\n"
      ],
      "metadata": {
        "id": "iK3urVP5sph3"
      }
    },
    {
      "cell_type": "markdown",
      "source": [
        "## IF statements"
      ],
      "metadata": {
        "id": "e-R1ht5pugsE"
      }
    },
    {
      "cell_type": "code",
      "source": [
        ""
      ],
      "metadata": {
        "id": "TmrKV5dLui9D"
      },
      "execution_count": null,
      "outputs": []
    }
  ]
}