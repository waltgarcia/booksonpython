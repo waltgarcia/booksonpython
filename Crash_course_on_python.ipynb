{
  "cells": [
    {
      "cell_type": "code",
      "execution_count": null,
      "metadata": {
        "colab": {
          "base_uri": "https://localhost:8080/"
        },
        "id": "IkevMa0sL4Gh",
        "outputId": "234ca749-4c19-4c25-d93a-8614c2e8f3ea"
      },
      "outputs": [
        {
          "name": "stdout",
          "output_type": "stream",
          "text": [
            "Ada Lovelace\n"
          ]
        }
      ],
      "source": [
        "name = \"ada lovelace\"\n",
        "print(name.title())"
      ]
    },
    {
      "cell_type": "code",
      "execution_count": null,
      "metadata": {
        "colab": {
          "base_uri": "https://localhost:8080/"
        },
        "id": "ow_E24vX8V9v",
        "outputId": "27aa1ecb-d9c1-4d88-b2d3-fea9cbb5e3cc"
      },
      "outputs": [
        {
          "name": "stdout",
          "output_type": "stream",
          "text": [
            "ADA LOVELACE\n",
            "ada lovelace\n"
          ]
        }
      ],
      "source": [
        "name = \"Ada Lovelace\"\n",
        "print(name.upper())\n",
        "print(name.lower())"
      ]
    },
    {
      "cell_type": "code",
      "execution_count": null,
      "metadata": {
        "colab": {
          "base_uri": "https://localhost:8080/"
        },
        "id": "lbNnYmPZ9XaB",
        "outputId": "d2327128-6191-4670-e7fa-dd5e003ddb29"
      },
      "outputs": [
        {
          "name": "stdout",
          "output_type": "stream",
          "text": [
            "ada lovelace\n"
          ]
        }
      ],
      "source": [
        "first_name = \"ada\"\n",
        "last_name = \"lovelace\"\n",
        "full_name = first_name + \" \" + last_name\n",
        "print(full_name)"
      ]
    },
    {
      "cell_type": "code",
      "execution_count": null,
      "metadata": {
        "colab": {
          "base_uri": "https://localhost:8080/"
        },
        "id": "Idz5rFOE9tyC",
        "outputId": "7d6d6348-1a23-4a6b-ce0b-36174c05ed1b"
      },
      "outputs": [
        {
          "name": "stdout",
          "output_type": "stream",
          "text": [
            "Ada Lovelace\n"
          ]
        }
      ],
      "source": [
        "print (full_name.title())"
      ]
    },
    {
      "cell_type": "code",
      "execution_count": null,
      "metadata": {
        "colab": {
          "base_uri": "https://localhost:8080/"
        },
        "id": "aVXkYLfm9yN6",
        "outputId": "f983fb2e-94d9-4394-d293-2eb13bf55dcd"
      },
      "outputs": [
        {
          "name": "stdout",
          "output_type": "stream",
          "text": [
            "Hello, Ada Lovelace!\n"
          ]
        }
      ],
      "source": [
        "print(\"Hello, \" + full_name.title() + \"!\")"
      ]
    },
    {
      "cell_type": "markdown",
      "metadata": {
        "id": "STmnzjj1-GOj"
      },
      "source": [
        "### Whitespace"
      ]
    },
    {
      "cell_type": "code",
      "execution_count": null,
      "metadata": {
        "colab": {
          "base_uri": "https://localhost:8080/"
        },
        "id": "CgzKbpVm-J1v",
        "outputId": "918e61fa-8fd6-4216-ca87-8064d777241f"
      },
      "outputs": [
        {
          "name": "stdout",
          "output_type": "stream",
          "text": [
            "Python\n"
          ]
        }
      ],
      "source": [
        "print(\"Python\")"
      ]
    },
    {
      "cell_type": "code",
      "execution_count": null,
      "metadata": {
        "colab": {
          "base_uri": "https://localhost:8080/"
        },
        "id": "jMamsIvQ-NaI",
        "outputId": "73b3870b-d5d4-450f-e4b9-2d3363db1565"
      },
      "outputs": [
        {
          "name": "stdout",
          "output_type": "stream",
          "text": [
            "\tPython\n"
          ]
        }
      ],
      "source": [
        "print(\"\\tPython\")"
      ]
    },
    {
      "cell_type": "code",
      "execution_count": null,
      "metadata": {
        "colab": {
          "base_uri": "https://localhost:8080/"
        },
        "id": "ukk1Esns-S7y",
        "outputId": "5b7e4881-122a-444c-d52d-1350b72bd666"
      },
      "outputs": [
        {
          "name": "stdout",
          "output_type": "stream",
          "text": [
            "Languages:\n",
            "Python\n",
            "C\n",
            "JavaScript\n"
          ]
        }
      ],
      "source": [
        "print(\"Languages:\\nPython\\nC\\nJavaScript\")"
      ]
    },
    {
      "cell_type": "code",
      "execution_count": null,
      "metadata": {
        "colab": {
          "base_uri": "https://localhost:8080/"
        },
        "id": "CdIZn785-bKo",
        "outputId": "2b04e797-11e1-4520-dd36-6f4ec4d08843"
      },
      "outputs": [
        {
          "name": "stdout",
          "output_type": "stream",
          "text": [
            "Languages:\n",
            "\tPython\n",
            "\tC\n",
            "\tJavaScript\n"
          ]
        }
      ],
      "source": [
        "print(\"Languages:\\n\\tPython\\n\\tC\\n\\tJavaScript\")"
      ]
    },
    {
      "cell_type": "code",
      "execution_count": null,
      "metadata": {
        "colab": {
          "base_uri": "https://localhost:8080/",
          "height": 36
        },
        "id": "DQlg81Nm-jS2",
        "outputId": "80272900-6d86-47c3-904c-1561a4499e4d"
      },
      "outputs": [
        {
          "data": {
            "application/vnd.google.colaboratory.intrinsic+json": {
              "type": "string"
            },
            "text/plain": [
              "'python'"
            ]
          },
          "execution_count": 14,
          "metadata": {},
          "output_type": "execute_result"
        }
      ],
      "source": [
        "favorite_language = \"python\"\n",
        "favorite_language"
      ]
    },
    {
      "cell_type": "code",
      "execution_count": null,
      "metadata": {
        "colab": {
          "base_uri": "https://localhost:8080/",
          "height": 36
        },
        "id": "NxPADyDz-w8w",
        "outputId": "62002b44-872c-4f5d-ce9f-d9bdc80160cf"
      },
      "outputs": [
        {
          "data": {
            "application/vnd.google.colaboratory.intrinsic+json": {
              "type": "string"
            },
            "text/plain": [
              "'python'"
            ]
          },
          "execution_count": 15,
          "metadata": {},
          "output_type": "execute_result"
        }
      ],
      "source": [
        "favorite_language.rstrip()"
      ]
    },
    {
      "cell_type": "markdown",
      "metadata": {
        "id": "RKK-3FivBV3J"
      },
      "source": [
        "### Avoiding syntax errors with strings"
      ]
    },
    {
      "cell_type": "code",
      "execution_count": null,
      "metadata": {
        "colab": {
          "base_uri": "https://localhost:8080/"
        },
        "id": "JTgT2OPn-zpx",
        "outputId": "ab3f2c9e-71fc-49be-e088-200d933f918d"
      },
      "outputs": [
        {
          "name": "stdout",
          "output_type": "stream",
          "text": [
            "One of Python's strenghths is its diverse community\n"
          ]
        }
      ],
      "source": [
        "message = \"One of Python's strenghths is its diverse community\"\n",
        "print(message)"
      ]
    },
    {
      "cell_type": "code",
      "execution_count": null,
      "metadata": {
        "colab": {
          "base_uri": "https://localhost:8080/",
          "height": 134
        },
        "id": "MiFjPNCpBckn",
        "outputId": "af6b885c-ec8c-431e-91c1-942c2399a050"
      },
      "outputs": [
        {
          "ename": "SyntaxError",
          "evalue": "ignored",
          "output_type": "error",
          "traceback": [
            "\u001b[0;36m  File \u001b[0;32m\"<ipython-input-17-4fe3105e9f38>\"\u001b[0;36m, line \u001b[0;32m1\u001b[0m\n\u001b[0;31m    message = 'One of Pythons's strenghts is its diverse community'\u001b[0m\n\u001b[0m                              ^\u001b[0m\n\u001b[0;31mSyntaxError\u001b[0m\u001b[0;31m:\u001b[0m invalid syntax\n"
          ]
        }
      ],
      "source": [
        "message = 'One of Pythons's strenghts is its diverse community'\n",
        "print(message)"
      ]
    },
    {
      "cell_type": "markdown",
      "metadata": {
        "id": "XnjhXLQeBzow"
      },
      "source": [
        "### Avoiding type errors with the str() function"
      ]
    },
    {
      "cell_type": "code",
      "execution_count": null,
      "metadata": {
        "colab": {
          "base_uri": "https://localhost:8080/",
          "height": 208
        },
        "id": "24Z2QY8iBl4d",
        "outputId": "53fbed5f-caa4-43a4-fbb7-011a2a248b78"
      },
      "outputs": [
        {
          "ename": "TypeError",
          "evalue": "ignored",
          "output_type": "error",
          "traceback": [
            "\u001b[0;31m---------------------------------------------------------------------------\u001b[0m",
            "\u001b[0;31mTypeError\u001b[0m                                 Traceback (most recent call last)",
            "\u001b[0;32m<ipython-input-18-80a141e301d6>\u001b[0m in \u001b[0;36m<module>\u001b[0;34m()\u001b[0m\n\u001b[1;32m      1\u001b[0m \u001b[0mage\u001b[0m \u001b[0;34m=\u001b[0m \u001b[0;36m23\u001b[0m\u001b[0;34m\u001b[0m\u001b[0;34m\u001b[0m\u001b[0m\n\u001b[0;32m----> 2\u001b[0;31m \u001b[0mmessage\u001b[0m \u001b[0;34m=\u001b[0m \u001b[0;34m\"Happy \"\u001b[0m \u001b[0;34m+\u001b[0m \u001b[0mage\u001b[0m \u001b[0;34m+\u001b[0m \u001b[0;34m\"rd Birthday!\"\u001b[0m\u001b[0;34m\u001b[0m\u001b[0;34m\u001b[0m\u001b[0m\n\u001b[0m\u001b[1;32m      3\u001b[0m \u001b[0mprint\u001b[0m\u001b[0;34m(\u001b[0m\u001b[0mmessage\u001b[0m\u001b[0;34m)\u001b[0m\u001b[0;34m\u001b[0m\u001b[0;34m\u001b[0m\u001b[0m\n",
            "\u001b[0;31mTypeError\u001b[0m: can only concatenate str (not \"int\") to str"
          ]
        }
      ],
      "source": [
        "age = 23\n",
        "message = \"Happy \" + age + \"rd Birthday!\"\n",
        "print(message)"
      ]
    },
    {
      "cell_type": "code",
      "execution_count": null,
      "metadata": {
        "colab": {
          "base_uri": "https://localhost:8080/"
        },
        "id": "CckK1fwsB9Pe",
        "outputId": "0ee9121f-cbb4-4155-90b3-e529f20137f9"
      },
      "outputs": [
        {
          "name": "stdout",
          "output_type": "stream",
          "text": [
            "Happy 23rd Birthday!\n"
          ]
        }
      ],
      "source": [
        "message = \"Happy \" + str(age) + \"rd Birthday!\"\n",
        "print(message)"
      ]
    },
    {
      "cell_type": "code",
      "execution_count": null,
      "metadata": {
        "colab": {
          "base_uri": "https://localhost:8080/"
        },
        "id": "d2o39lHeCE3-",
        "outputId": "6456bc9f-0f9b-452e-fe6d-6e90fd2d6e5e"
      },
      "outputs": [
        {
          "name": "stdout",
          "output_type": "stream",
          "text": [
            "The Zen of Python, by Tim Peters\n",
            "\n",
            "Beautiful is better than ugly.\n",
            "Explicit is better than implicit.\n",
            "Simple is better than complex.\n",
            "Complex is better than complicated.\n",
            "Flat is better than nested.\n",
            "Sparse is better than dense.\n",
            "Readability counts.\n",
            "Special cases aren't special enough to break the rules.\n",
            "Although practicality beats purity.\n",
            "Errors should never pass silently.\n",
            "Unless explicitly silenced.\n",
            "In the face of ambiguity, refuse the temptation to guess.\n",
            "There should be one-- and preferably only one --obvious way to do it.\n",
            "Although that way may not be obvious at first unless you're Dutch.\n",
            "Now is better than never.\n",
            "Although never is often better than *right* now.\n",
            "If the implementation is hard to explain, it's a bad idea.\n",
            "If the implementation is easy to explain, it may be a good idea.\n",
            "Namespaces are one honking great idea -- let's do more of those!\n"
          ]
        }
      ],
      "source": [
        "import this"
      ]
    },
    {
      "cell_type": "markdown",
      "metadata": {
        "id": "UlvWl7hpHehy"
      },
      "source": [
        "## Introducing lists"
      ]
    },
    {
      "cell_type": "code",
      "execution_count": null,
      "metadata": {
        "colab": {
          "base_uri": "https://localhost:8080/"
        },
        "id": "2S1V_V03HgXo",
        "outputId": "28a0af87-24a2-45d6-e480-fbcd35a552b1"
      },
      "outputs": [
        {
          "name": "stdout",
          "output_type": "stream",
          "text": [
            "['trek', 'cannondale', 'redline', 'specialized']\n"
          ]
        }
      ],
      "source": [
        "bicycles = [\"trek\", \"cannondale\", \"redline\", \"specialized\"]\n",
        "print(bicycles)"
      ]
    },
    {
      "cell_type": "code",
      "execution_count": null,
      "metadata": {
        "colab": {
          "base_uri": "https://localhost:8080/"
        },
        "id": "q0KYLJryMti6",
        "outputId": "f92248b1-b305-47b6-e14d-c33e724b313c"
      },
      "outputs": [
        {
          "name": "stdout",
          "output_type": "stream",
          "text": [
            "trek\n"
          ]
        }
      ],
      "source": [
        "print(bicycles[0])"
      ]
    },
    {
      "cell_type": "code",
      "execution_count": null,
      "metadata": {
        "colab": {
          "base_uri": "https://localhost:8080/"
        },
        "id": "1qDE84J2MwuJ",
        "outputId": "e9eb465c-792a-46aa-dd3f-37eb350ad317"
      },
      "outputs": [
        {
          "name": "stdout",
          "output_type": "stream",
          "text": [
            "specialized\n"
          ]
        }
      ],
      "source": [
        "print(bicycles[-1])"
      ]
    },
    {
      "cell_type": "code",
      "execution_count": null,
      "metadata": {
        "colab": {
          "base_uri": "https://localhost:8080/"
        },
        "id": "WM-Vfe5qNvs0",
        "outputId": "0d52d1ec-98b9-4f58-ff19-9adc6d721389"
      },
      "outputs": [
        {
          "name": "stdout",
          "output_type": "stream",
          "text": [
            "My first bicycle was a Trek.\n"
          ]
        }
      ],
      "source": [
        "message = \"My first bicycle was a \" + bicycles[0].title() + \".\"\n",
        "print (message)"
      ]
    },
    {
      "cell_type": "code",
      "execution_count": null,
      "metadata": {
        "colab": {
          "base_uri": "https://localhost:8080/"
        },
        "id": "mSZ-29ViN3F_",
        "outputId": "bc4b91af-7018-4d20-a688-1043a2034f44"
      },
      "outputs": [
        {
          "name": "stdout",
          "output_type": "stream",
          "text": [
            "['honda', 'yamaha', 'suzuki']\n"
          ]
        }
      ],
      "source": [
        "motorcycles = [\"honda\", \"yamaha\", \"suzuki\"]\n",
        "print (motorcycles)"
      ]
    },
    {
      "cell_type": "code",
      "execution_count": null,
      "metadata": {
        "colab": {
          "base_uri": "https://localhost:8080/"
        },
        "id": "t4SVjhhFOCIf",
        "outputId": "79bbe855-66db-4c89-9695-a982f6358539"
      },
      "outputs": [
        {
          "name": "stdout",
          "output_type": "stream",
          "text": [
            "['ducati', 'yamaha', 'suzuki']\n"
          ]
        }
      ],
      "source": [
        "motorcycles[0] = \"ducati\"\n",
        "print(motorcycles)"
      ]
    },
    {
      "cell_type": "code",
      "execution_count": null,
      "metadata": {
        "colab": {
          "base_uri": "https://localhost:8080/"
        },
        "id": "OdaLwt1iOGhA",
        "outputId": "9c14f7ee-2d4e-4646-ee92-935e60e4ff9f"
      },
      "outputs": [
        {
          "name": "stdout",
          "output_type": "stream",
          "text": [
            "['ducati', 'yamaha', 'suzuki', 'ducati']\n"
          ]
        }
      ],
      "source": [
        "motorcycles.append(\"ducati\")\n",
        "print(motorcycles)"
      ]
    },
    {
      "cell_type": "code",
      "execution_count": null,
      "metadata": {
        "colab": {
          "base_uri": "https://localhost:8080/"
        },
        "id": "apKZmUfFOLeK",
        "outputId": "a15bbad5-fbb7-4c07-ca22-0d2938c4349b"
      },
      "outputs": [
        {
          "name": "stdout",
          "output_type": "stream",
          "text": [
            "['ducati', 'ducati', 'yamaha', 'suzuki', 'ducati']\n"
          ]
        }
      ],
      "source": [
        "motorcycles.insert(0, \"ducati\")\n",
        "print(motorcycles)"
      ]
    },
    {
      "cell_type": "code",
      "execution_count": null,
      "metadata": {
        "colab": {
          "base_uri": "https://localhost:8080/"
        },
        "id": "cfBUIKhWOT91",
        "outputId": "65e6829a-567f-4686-b88c-e8573ae12a7b"
      },
      "outputs": [
        {
          "name": "stdout",
          "output_type": "stream",
          "text": [
            "['ducati', 'yamaha', 'suzuki', 'ducati']\n"
          ]
        }
      ],
      "source": [
        "del motorcycles[0]\n",
        "print(motorcycles)"
      ]
    },
    {
      "cell_type": "code",
      "execution_count": null,
      "metadata": {
        "colab": {
          "base_uri": "https://localhost:8080/"
        },
        "id": "SDHj5aMIOY0s",
        "outputId": "4f8efbf8-58e6-4a2e-c49c-37bf46e88c92"
      },
      "outputs": [
        {
          "name": "stdout",
          "output_type": "stream",
          "text": [
            "['honda', 'yamaha', 'suzuki']\n"
          ]
        }
      ],
      "source": [
        "motorcycles = [\"honda\", \"yamaha\", \"suzuki\"]\n",
        "print(motorcycles)"
      ]
    },
    {
      "cell_type": "code",
      "execution_count": null,
      "metadata": {
        "colab": {
          "base_uri": "https://localhost:8080/"
        },
        "id": "vLf7Udq5Omo_",
        "outputId": "c5ee7393-0b8c-47a7-f684-acfd0caa23cf"
      },
      "outputs": [
        {
          "name": "stdout",
          "output_type": "stream",
          "text": [
            "['honda', 'yamaha']\n"
          ]
        }
      ],
      "source": [
        "popped_motorcycle = motorcycles.pop()\n",
        "print(motorcycles)"
      ]
    },
    {
      "cell_type": "code",
      "execution_count": null,
      "metadata": {
        "colab": {
          "base_uri": "https://localhost:8080/"
        },
        "id": "yMLFeGtDOqwp",
        "outputId": "d4dbf79b-ec37-4cbe-ceae-9f68054d8a71"
      },
      "outputs": [
        {
          "name": "stdout",
          "output_type": "stream",
          "text": [
            "suzuki\n"
          ]
        }
      ],
      "source": [
        "print(popped_motorcycle)"
      ]
    },
    {
      "cell_type": "code",
      "execution_count": null,
      "metadata": {
        "colab": {
          "base_uri": "https://localhost:8080/"
        },
        "id": "XTfJJ6UcOsZM",
        "outputId": "4bdf47c1-8fc2-436e-b852-c66a74c75cfd"
      },
      "outputs": [
        {
          "name": "stdout",
          "output_type": "stream",
          "text": [
            "['honda', 'yamaha', 'suzuki']\n",
            "\n",
            "A Ducati is too expensive for me.\n"
          ]
        }
      ],
      "source": [
        "motorcycles  = [\"honda\", \"yamaha\", \"suzuki\", \"ducati\"]\n",
        "too_expensive = \"ducati\"\n",
        "motorcycles.remove(too_expensive)\n",
        "print(motorcycles)\n",
        "print(\"\\nA \" + too_expensive.title() + \" is too expensive for me.\")\n"
      ]
    },
    {
      "cell_type": "markdown",
      "metadata": {
        "id": "YAKFrdsappuk"
      },
      "source": [
        "### Organizing a list"
      ]
    },
    {
      "cell_type": "code",
      "execution_count": null,
      "metadata": {
        "colab": {
          "base_uri": "https://localhost:8080/"
        },
        "id": "gQ3JI2f5pq4Z",
        "outputId": "29d17bf6-b270-4fc9-926a-33362a1cba18"
      },
      "outputs": [
        {
          "name": "stdout",
          "output_type": "stream",
          "text": [
            "['audi', 'bmw', 'subaru', 'toyota']\n"
          ]
        }
      ],
      "source": [
        "cars = [\"bmw\", \"audi\", \"toyota\", \"subaru\"]\n",
        "cars.sort()\n",
        "print(cars)"
      ]
    },
    {
      "cell_type": "code",
      "execution_count": null,
      "metadata": {
        "colab": {
          "base_uri": "https://localhost:8080/"
        },
        "id": "kqk_q7aSpwya",
        "outputId": "436b400b-193c-458d-9a90-d8318179e585"
      },
      "outputs": [
        {
          "name": "stdout",
          "output_type": "stream",
          "text": [
            "['toyota', 'subaru', 'bmw', 'audi']\n"
          ]
        }
      ],
      "source": [
        "cars.sort(reverse=True)\n",
        "print(cars)"
      ]
    },
    {
      "cell_type": "code",
      "execution_count": null,
      "metadata": {
        "colab": {
          "base_uri": "https://localhost:8080/"
        },
        "id": "3p9T744Rp0gH",
        "outputId": "a50e27bb-898e-4ff9-e227-e880a6adf9b9"
      },
      "outputs": [
        {
          "name": "stdout",
          "output_type": "stream",
          "text": [
            "Here is the original list:\n",
            "['toyota', 'subaru', 'bmw', 'audi']\n"
          ]
        }
      ],
      "source": [
        "print (\"Here is the original list:\")\n",
        "print(cars)"
      ]
    },
    {
      "cell_type": "code",
      "execution_count": null,
      "metadata": {
        "colab": {
          "base_uri": "https://localhost:8080/"
        },
        "id": "dbgaRSQhp73N",
        "outputId": "3420acd1-2cb5-4aff-ef6c-82b1e3f51c9f"
      },
      "outputs": [
        {
          "name": "stdout",
          "output_type": "stream",
          "text": [
            "\n",
            "Here is the sorted list:\n",
            "['audi', 'bmw', 'subaru', 'toyota']\n"
          ]
        }
      ],
      "source": [
        "print(\"\\nHere is the sorted list:\")\n",
        "print(sorted(cars))"
      ]
    },
    {
      "cell_type": "code",
      "execution_count": null,
      "metadata": {
        "colab": {
          "base_uri": "https://localhost:8080/"
        },
        "id": "1rMrAT1iqAql",
        "outputId": "6d00a2a1-a78b-468e-eabe-a6dcec714221"
      },
      "outputs": [
        {
          "name": "stdout",
          "output_type": "stream",
          "text": [
            "['bmw', 'audi', 'toyota', 'subaru']\n"
          ]
        }
      ],
      "source": [
        "cars = [\"bmw\", \"audi\", \"toyota\", \"subaru\"]\n",
        "print(cars)"
      ]
    },
    {
      "cell_type": "code",
      "execution_count": null,
      "metadata": {
        "colab": {
          "base_uri": "https://localhost:8080/"
        },
        "id": "vprr70YHqOoF",
        "outputId": "cc580216-cdc8-4bcf-a16d-4abab936e8e5"
      },
      "outputs": [
        {
          "name": "stdout",
          "output_type": "stream",
          "text": [
            "['subaru', 'toyota', 'audi', 'bmw']\n"
          ]
        }
      ],
      "source": [
        "cars.reverse()\n",
        "print(cars)"
      ]
    },
    {
      "cell_type": "code",
      "execution_count": null,
      "metadata": {
        "colab": {
          "base_uri": "https://localhost:8080/"
        },
        "id": "ek-Qf0MZqQtM",
        "outputId": "d94ba352-2bac-4c1d-c8ec-cf59849d6ed2"
      },
      "outputs": [
        {
          "data": {
            "text/plain": [
              "4"
            ]
          },
          "execution_count": 24,
          "metadata": {},
          "output_type": "execute_result"
        }
      ],
      "source": [
        "len(cars)"
      ]
    },
    {
      "cell_type": "markdown",
      "metadata": {
        "id": "_VtIjTVpqif-"
      },
      "source": [
        "## Working with lists"
      ]
    },
    {
      "cell_type": "code",
      "execution_count": null,
      "metadata": {
        "colab": {
          "base_uri": "https://localhost:8080/"
        },
        "id": "4MRBU5p5qj_C",
        "outputId": "63c9b6e7-8c23-4808-8997-98ea83d5b67e"
      },
      "outputs": [
        {
          "name": "stdout",
          "output_type": "stream",
          "text": [
            "alice\n",
            "david\n",
            "carolina\n"
          ]
        }
      ],
      "source": [
        "magicians = [\"alice\", \"david\", \"carolina\"]\n",
        "for magician in magicians:\n",
        "  print(magician)"
      ]
    },
    {
      "cell_type": "code",
      "execution_count": null,
      "metadata": {
        "colab": {
          "base_uri": "https://localhost:8080/"
        },
        "id": "KOT_C2ZY4Te4",
        "outputId": "d8127659-dcda-4577-9804-fa0ca9f3c142"
      },
      "outputs": [
        {
          "name": "stdout",
          "output_type": "stream",
          "text": [
            "Alice, that was a gret trick!\n",
            "I can't wait to see your next trick, Alice.\n",
            "\n",
            "David, that was a gret trick!\n",
            "I can't wait to see your next trick, David.\n",
            "\n",
            "Carolina, that was a gret trick!\n",
            "I can't wait to see your next trick, Carolina.\n",
            "\n",
            "Thank you, everyone. That was a great magic show\n"
          ]
        }
      ],
      "source": [
        "magicians = [\"alice\", \"david\", \"carolina\"]\n",
        "for magician in magicians:\n",
        "  print (magician.title() + \", that was a gret trick!\")\n",
        "  print (\"I can't wait to see your next trick, \" + magician.title() + \".\\n\")\n",
        "\n",
        "print (\"Thank you, everyone. That was a great magic show\")"
      ]
    },
    {
      "cell_type": "markdown",
      "metadata": {
        "id": "f8IMd7cMH4Ut"
      },
      "source": [
        "### Making numerical lists"
      ]
    },
    {
      "cell_type": "code",
      "execution_count": null,
      "metadata": {
        "colab": {
          "base_uri": "https://localhost:8080/"
        },
        "id": "4oLn---ZH7lF",
        "outputId": "2dda3b60-cadd-4cac-9532-933e5fbb73c8"
      },
      "outputs": [
        {
          "name": "stdout",
          "output_type": "stream",
          "text": [
            "1\n",
            "2\n",
            "3\n",
            "4\n"
          ]
        }
      ],
      "source": [
        "for value in range (1, 5):\n",
        "  print(value)"
      ]
    },
    {
      "cell_type": "code",
      "execution_count": null,
      "metadata": {
        "colab": {
          "base_uri": "https://localhost:8080/"
        },
        "id": "Urq-cojjH_TF",
        "outputId": "f8c66499-b61c-4c58-f291-78804f36128d"
      },
      "outputs": [
        {
          "name": "stdout",
          "output_type": "stream",
          "text": [
            "[1, 2, 3, 4, 5]\n"
          ]
        }
      ],
      "source": [
        "numbers = list(range(1,6))\n",
        "print(numbers)"
      ]
    },
    {
      "cell_type": "code",
      "execution_count": null,
      "metadata": {
        "colab": {
          "base_uri": "https://localhost:8080/"
        },
        "id": "bfBB4jyXJyop",
        "outputId": "59bab77a-a0b9-4951-8217-67b74492123a"
      },
      "outputs": [
        {
          "name": "stdout",
          "output_type": "stream",
          "text": [
            "[2, 4, 6, 8, 10]\n"
          ]
        }
      ],
      "source": [
        "even_numbers = list(range(2, 11, 2))\n",
        "print(even_numbers)"
      ]
    },
    {
      "cell_type": "code",
      "execution_count": null,
      "metadata": {
        "colab": {
          "base_uri": "https://localhost:8080/"
        },
        "id": "uuqG3l7rJ4qA",
        "outputId": "b3e6d1c9-0385-4b4f-c948-51892bef9e4b"
      },
      "outputs": [
        {
          "name": "stdout",
          "output_type": "stream",
          "text": [
            "[1, 4, 9, 16, 25, 36, 49, 64, 81, 100, 121, 144, 169, 196, 225, 256, 289, 324, 361]\n"
          ]
        }
      ],
      "source": [
        "squares = []\n",
        "for value in range(1,20):\n",
        "  square = value**2\n",
        "  squares.append(square)\n",
        "\n",
        "print(squares)"
      ]
    },
    {
      "cell_type": "code",
      "execution_count": null,
      "metadata": {
        "colab": {
          "base_uri": "https://localhost:8080/"
        },
        "id": "R347FO24KXH0",
        "outputId": "b98489ad-d074-4fc0-83a5-d5e2c3600127"
      },
      "outputs": [
        {
          "name": "stdout",
          "output_type": "stream",
          "text": [
            "[1, 4, 9, 16, 25, 36, 49, 64, 81, 100, 121, 144, 169, 196, 225, 256, 289, 324, 361]\n"
          ]
        }
      ],
      "source": [
        "squares = []\n",
        "for value in range(1,20):\n",
        "    squares.append(value**2)\n",
        "\n",
        "print(squares)"
      ]
    },
    {
      "cell_type": "code",
      "execution_count": null,
      "metadata": {
        "colab": {
          "base_uri": "https://localhost:8080/"
        },
        "id": "7RNMM9VdKjLT",
        "outputId": "28e2e613-7209-407a-8263-2df8203eeecc"
      },
      "outputs": [
        {
          "data": {
            "text/plain": [
              "0"
            ]
          },
          "execution_count": 42,
          "metadata": {},
          "output_type": "execute_result"
        }
      ],
      "source": [
        "digits = [1, 2, 3, 4, 5, 6, 7, 8, 9, 0]\n",
        "min(digits)"
      ]
    },
    {
      "cell_type": "code",
      "execution_count": null,
      "metadata": {
        "colab": {
          "base_uri": "https://localhost:8080/"
        },
        "id": "Of4kTGYIKs-X",
        "outputId": "d074d392-32b0-4080-cf45-d86c7a5a26b0"
      },
      "outputs": [
        {
          "data": {
            "text/plain": [
              "9"
            ]
          },
          "execution_count": 43,
          "metadata": {},
          "output_type": "execute_result"
        }
      ],
      "source": [
        "max(digits)"
      ]
    },
    {
      "cell_type": "code",
      "execution_count": null,
      "metadata": {
        "colab": {
          "base_uri": "https://localhost:8080/"
        },
        "id": "-1njq9LfKuz-",
        "outputId": "a148a154-30b5-4ced-d4bc-7f00e6821c69"
      },
      "outputs": [
        {
          "data": {
            "text/plain": [
              "45"
            ]
          },
          "execution_count": 44,
          "metadata": {},
          "output_type": "execute_result"
        }
      ],
      "source": [
        "sum(digits)"
      ]
    },
    {
      "cell_type": "markdown",
      "metadata": {
        "id": "7GTIkTZuMM9s"
      },
      "source": [
        "### List comprehensions"
      ]
    },
    {
      "cell_type": "markdown",
      "metadata": {
        "id": "P0MHF0fqMQYK"
      },
      "source": [
        " A **list comprehension** allows you to generate the same list in just one line of code. A list comprehension combines the for loop and the creation of new elements into one line, and automatically appends each new element.\n"
      ]
    },
    {
      "cell_type": "code",
      "execution_count": null,
      "metadata": {
        "colab": {
          "base_uri": "https://localhost:8080/"
        },
        "id": "ICAgxzfIMavt",
        "outputId": "f3a48815-f1b0-4c60-dea4-ccb0adafff1e"
      },
      "outputs": [
        {
          "name": "stdout",
          "output_type": "stream",
          "text": [
            "[1, 4, 9, 16, 25, 36, 49, 64, 81, 100, 121, 144, 169, 196, 225, 256, 289, 324, 361, 400]\n"
          ]
        }
      ],
      "source": [
        "squares = [value**2 for value in range(1,21)]\n",
        "print(squares)"
      ]
    },
    {
      "cell_type": "markdown",
      "metadata": {
        "id": "6A2H3i7QMumI"
      },
      "source": [
        "When you're writing three or four lines of code to generate lists and it begins to feel repetitive, consider writing your own list comprehensions."
      ]
    },
    {
      "cell_type": "markdown",
      "metadata": {
        "id": "L9pNRyu2Niwj"
      },
      "source": [
        "### Working with part of a list"
      ]
    },
    {
      "cell_type": "code",
      "execution_count": null,
      "metadata": {
        "colab": {
          "base_uri": "https://localhost:8080/"
        },
        "id": "Ct8KIuoINkiv",
        "outputId": "cdf3f7b4-49bb-42c7-9da5-7b9adb2bea5d"
      },
      "outputs": [
        {
          "name": "stdout",
          "output_type": "stream",
          "text": [
            "['charles', 'martina', 'michael']\n"
          ]
        }
      ],
      "source": [
        "players = [\"charles\", \"martina\", \"michael\", \"florence\", \"eli\"]\n",
        "print(players[0:3])"
      ]
    },
    {
      "cell_type": "code",
      "execution_count": null,
      "metadata": {
        "colab": {
          "base_uri": "https://localhost:8080/"
        },
        "id": "BaIsNelXNtc4",
        "outputId": "d49732d7-6bee-4401-dcd7-9a2123f34859"
      },
      "outputs": [
        {
          "name": "stdout",
          "output_type": "stream",
          "text": [
            "['martina', 'michael', 'florence']\n"
          ]
        }
      ],
      "source": [
        "print(players[1:4])"
      ]
    },
    {
      "cell_type": "code",
      "execution_count": null,
      "metadata": {
        "colab": {
          "base_uri": "https://localhost:8080/"
        },
        "id": "8RG0c8O2NxNt",
        "outputId": "c458a2c3-03fb-44b9-d816-90ec2ea2184c"
      },
      "outputs": [
        {
          "name": "stdout",
          "output_type": "stream",
          "text": [
            "Here are the first three players on my team:\n",
            "Charles\n",
            "Martina\n",
            "Michael\n"
          ]
        }
      ],
      "source": [
        "players = [\"charles\", \"martina\", \"michael\", \"florence\", \"eli\"]\n",
        "\n",
        "print (\"Here are the first three players on my team:\")\n",
        "for player in players[:3]:\n",
        "  print(player.title())"
      ]
    },
    {
      "cell_type": "code",
      "execution_count": null,
      "metadata": {
        "colab": {
          "base_uri": "https://localhost:8080/"
        },
        "id": "eCgeog4wmESf",
        "outputId": "94e8ea96-ea74-41f1-a28a-0283ad731fe3"
      },
      "outputs": [
        {
          "name": "stdout",
          "output_type": "stream",
          "text": [
            "['pizza', 'falafel', 'carrot cake']\n"
          ]
        }
      ],
      "source": [
        "my_foods = [\"pizza\", \"falafel\", \"carrot cake\"]\n",
        "friends_foods = my_foods[:]\n",
        "print(friends_foods)"
      ]
    },
    {
      "cell_type": "code",
      "execution_count": null,
      "metadata": {
        "colab": {
          "base_uri": "https://localhost:8080/"
        },
        "id": "5zUgwK8zmZFj",
        "outputId": "a2b597c7-cdac-42d8-fe5f-c7b6b45bb94d"
      },
      "outputs": [
        {
          "name": "stdout",
          "output_type": "stream",
          "text": [
            "My favorite foods are: \n",
            "['pizza', 'falafel', 'carrot cake', 'cannoli', 'cannoli']\n",
            "\n",
            "My friend's favorite foods are: \n",
            "['pizza', 'falafel', 'carrot cake', 'ice cream', 'ice cream']\n"
          ]
        }
      ],
      "source": [
        "my_foods.append(\"cannoli\")\n",
        "friends_foods.append(\"ice cream\")\n",
        "\n",
        "print (\"My favorite foods are: \")\n",
        "print(my_foods)\n",
        "\n",
        "print(\"\\nMy friend's favorite foods are: \")\n",
        "print(friends_foods)"
      ]
    },
    {
      "cell_type": "markdown",
      "metadata": {
        "id": "fJSB2C8Tm3uo"
      },
      "source": [
        "## Tuples"
      ]
    },
    {
      "cell_type": "markdown",
      "metadata": {
        "id": "QMN1CekUm5z1"
      },
      "source": [
        "Python refers to values that cannot change as immutable, and a immutable list is called a tuple."
      ]
    },
    {
      "cell_type": "code",
      "execution_count": null,
      "metadata": {
        "colab": {
          "base_uri": "https://localhost:8080/"
        },
        "id": "kqQrj67km5H2",
        "outputId": "20ff7d22-1965-4354-a0f4-9438edc9ef84"
      },
      "outputs": [
        {
          "name": "stdout",
          "output_type": "stream",
          "text": [
            "200\n"
          ]
        }
      ],
      "source": [
        "dimensions = (200, 50)\n",
        "print (dimensions[0])"
      ]
    },
    {
      "cell_type": "code",
      "execution_count": null,
      "metadata": {
        "colab": {
          "base_uri": "https://localhost:8080/"
        },
        "id": "hqdVJBFzp1TR",
        "outputId": "6a7f7ad3-b13c-45d5-aea0-d9659bae0774"
      },
      "outputs": [
        {
          "name": "stdout",
          "output_type": "stream",
          "text": [
            "200\n",
            "50\n"
          ]
        }
      ],
      "source": [
        "for dimension in dimensions:\n",
        "  print(dimension)"
      ]
    },
    {
      "cell_type": "markdown",
      "metadata": {
        "id": "Nlu0uwt8qKbD"
      },
      "source": [
        "Tuples are simple data structures. Use them when you want to store a set of values that should not be changed throughout the life of a program."
      ]
    },
    {
      "cell_type": "markdown",
      "metadata": {
        "id": "UJlegklusbhF"
      },
      "source": [
        "## Styling your code"
      ]
    },
    {
      "cell_type": "markdown",
      "metadata": {
        "id": "iK3urVP5sph3"
      },
      "source": [
        "Python Enhancement Proposal. \n",
        "**PEP 8** -> code is read more often that it is written.\n",
        "\n",
        "There are a few rules: \n",
        "\n",
        "### Indentation\n",
        "PEP 8 recommends that you use four spaces per indentation level.\n",
        "Mixing tabs and spaces in your file can cause problems that are very difficult to diagnose. If you think you have a mix of tabs and spaces, you can vonvert all tabs in a file to spaces in most editors.\n",
        "\n",
        "### Line Lenght\n",
        "Many python programmers recommend that each line should be less than 80 characters. \n",
        "PEP 8 also recommends that you limit all of your comments to 72 characters per line.\n",
        "\n"
      ]
    },
    {
      "cell_type": "markdown",
      "metadata": {
        "id": "e-R1ht5pugsE"
      },
      "source": [
        "## IF statements"
      ]
    },
    {
      "cell_type": "code",
      "execution_count": 3,
      "metadata": {
        "id": "TmrKV5dLui9D"
      },
      "outputs": [
        {
          "name": "stdout",
          "output_type": "stream",
          "text": [
            "Audi\n",
            "BMW\n",
            "Subaru\n",
            "Toyota\n"
          ]
        }
      ],
      "source": [
        "cars = [\"audi\", \"bmw\", \"subaru\", \"toyota\"]\n",
        "\n",
        "for car in cars:\n",
        "    if car == \"bmw\":\n",
        "        print(car.upper())\n",
        "    else:\n",
        "        print(car.title())"
      ]
    },
    {
      "cell_type": "code",
      "execution_count": 4,
      "metadata": {},
      "outputs": [
        {
          "name": "stdout",
          "output_type": "stream",
          "text": [
            "audi\n",
            "bmw\n",
            "subaru\n",
            "toyota\n"
          ]
        }
      ],
      "source": [
        "for car in cars:\n",
        "    print(car)"
      ]
    },
    {
      "cell_type": "code",
      "execution_count": 5,
      "metadata": {},
      "outputs": [
        {
          "name": "stdout",
          "output_type": "stream",
          "text": [
            "Hold the anchovies!\n"
          ]
        }
      ],
      "source": [
        "requested_topping = \"mushrooms\"\n",
        "\n",
        "if requested_topping != \"anchovies\":\n",
        "    print(\"Hold the anchovies!\")"
      ]
    },
    {
      "cell_type": "code",
      "execution_count": 7,
      "metadata": {},
      "outputs": [
        {
          "name": "stdout",
          "output_type": "stream",
          "text": [
            "That is not the correct answer. Please try again!\n"
          ]
        }
      ],
      "source": [
        "answer = 17\n",
        "\n",
        "if answer != 42:\n",
        "    print(\"That is not the correct answer. Please try again!\")"
      ]
    },
    {
      "cell_type": "code",
      "execution_count": 8,
      "metadata": {},
      "outputs": [
        {
          "data": {
            "text/plain": [
              "True"
            ]
          },
          "execution_count": 8,
          "metadata": {},
          "output_type": "execute_result"
        }
      ],
      "source": [
        "age_0 = 22\n",
        "age_1 = 18\n",
        "age_0 >= 21 or age_1 >=21"
      ]
    },
    {
      "cell_type": "code",
      "execution_count": 10,
      "metadata": {},
      "outputs": [
        {
          "data": {
            "text/plain": [
              "True"
            ]
          },
          "execution_count": 10,
          "metadata": {},
          "output_type": "execute_result"
        }
      ],
      "source": [
        "requested_toppings = [\"mushrooms\", \"onions\", \"pineapple\"]\n",
        "\"mushrooms\" in requested_toppings"
      ]
    },
    {
      "cell_type": "code",
      "execution_count": 11,
      "metadata": {},
      "outputs": [
        {
          "data": {
            "text/plain": [
              "False"
            ]
          },
          "execution_count": 11,
          "metadata": {},
          "output_type": "execute_result"
        }
      ],
      "source": [
        "\"pepperoni\" in requested_toppings"
      ]
    },
    {
      "cell_type": "markdown",
      "metadata": {},
      "source": [
        "### Checking whether a value is not in a list"
      ]
    },
    {
      "cell_type": "code",
      "execution_count": 12,
      "metadata": {},
      "outputs": [
        {
          "name": "stdout",
          "output_type": "stream",
          "text": [
            "Marie, you can post a response if you wish.\n"
          ]
        }
      ],
      "source": [
        "banned_users = [\"andrew\",\"carolina\", \"david\"]\n",
        "user = \"marie\"\n",
        "\n",
        "if user not in banned_users:\n",
        "    print(user.title() + \", you can post a response if you wish.\")"
      ]
    },
    {
      "cell_type": "markdown",
      "metadata": {},
      "source": [
        "### Boolean expressions"
      ]
    },
    {
      "cell_type": "code",
      "execution_count": null,
      "metadata": {},
      "outputs": [],
      "source": [
        "game_active = True\n",
        "can_edit = False"
      ]
    },
    {
      "cell_type": "markdown",
      "metadata": {},
      "source": [
        "### If Statements"
      ]
    },
    {
      "cell_type": "code",
      "execution_count": 13,
      "metadata": {},
      "outputs": [
        {
          "name": "stdout",
          "output_type": "stream",
          "text": [
            "You are old enough to vote!\n"
          ]
        }
      ],
      "source": [
        "age = 19\n",
        "if age >= 18:\n",
        "    print(\"You are old enough to vote!\")"
      ]
    },
    {
      "cell_type": "code",
      "execution_count": 14,
      "metadata": {},
      "outputs": [
        {
          "name": "stdout",
          "output_type": "stream",
          "text": [
            "You are old enough to vote\n",
            "Have you registered to vote yet?\n"
          ]
        }
      ],
      "source": [
        "age = 19\n",
        "if age >= 18:\n",
        "    print(\"You are old enough to vote\")\n",
        "    print(\"Have you registered to vote yet?\")"
      ]
    },
    {
      "cell_type": "markdown",
      "metadata": {},
      "source": [
        "### if-else Statements"
      ]
    },
    {
      "cell_type": "code",
      "execution_count": 15,
      "metadata": {},
      "outputs": [
        {
          "name": "stdout",
          "output_type": "stream",
          "text": [
            "Sorry, you are too young to vote.\n",
            "Please register to vote as soon as you turn 18!\n"
          ]
        }
      ],
      "source": [
        "age = 17\n",
        "if age >= 18:\n",
        "    print(\"You are old enough to vote!\")\n",
        "    print(\"Have you registered to vote yet?\")\n",
        "else: \n",
        "    print(\"Sorry, you are too young to vote.\")\n",
        "    print(\"Please register to vote as soon as you turn 18!\")\n",
        "    "
      ]
    },
    {
      "cell_type": "code",
      "execution_count": 16,
      "metadata": {},
      "outputs": [
        {
          "name": "stdout",
          "output_type": "stream",
          "text": [
            "Your admission cost is $5.\n"
          ]
        }
      ],
      "source": [
        "age = 12\n",
        "if age < 4:\n",
        "    print(\"Your admission cost it $0.\")\n",
        "elif age < 18:\n",
        "    print(\"Your admission cost is $5.\")\n",
        "else: \n",
        "    print(\"Your admission cost is $10.\")"
      ]
    },
    {
      "cell_type": "code",
      "execution_count": 19,
      "metadata": {},
      "outputs": [
        {
          "name": "stdout",
          "output_type": "stream",
          "text": [
            "Your admission cost is $5.\n"
          ]
        }
      ],
      "source": [
        "age = 12\n",
        "\n",
        "if age < 4:\n",
        "    price = 0\n",
        "elif age < 18:\n",
        "    price = 5\n",
        "else: \n",
        "    price = 10\n",
        "\n",
        "print(\"Your admission cost is $\" + str(price) + \".\")"
      ]
    },
    {
      "cell_type": "markdown",
      "metadata": {},
      "source": [
        "### Using multiple elifs blocks"
      ]
    },
    {
      "cell_type": "code",
      "execution_count": 20,
      "metadata": {},
      "outputs": [
        {
          "name": "stdout",
          "output_type": "stream",
          "text": [
            "Your admission cost is $5.\n"
          ]
        }
      ],
      "source": [
        "age = 12\n",
        "\n",
        "if age < 4:\n",
        "    price = 0\n",
        "elif age < 18:\n",
        "    price = 5\n",
        "elif age > 65: \n",
        "    price = 10\n",
        "else: \n",
        "    price = 5\n",
        "\n",
        "print(\"Your admission cost is $\" + str(price) + \".\")"
      ]
    },
    {
      "cell_type": "markdown",
      "metadata": {},
      "source": [
        "### Omitting the else Block"
      ]
    },
    {
      "cell_type": "code",
      "execution_count": 1,
      "metadata": {},
      "outputs": [
        {
          "name": "stdout",
          "output_type": "stream",
          "text": [
            "Your admission cost is $5.\n"
          ]
        }
      ],
      "source": [
        "age = 12\n",
        "\n",
        "if age < 4:\n",
        "    price = 0\n",
        "elif age < 18:\n",
        "    price = 5\n",
        "elif age < 65: \n",
        "    price = 10\n",
        "elif age >= 65:\n",
        "    price = 5\n",
        "\n",
        "print(\"Your admission cost is $\" + str(price) + \".\")"
      ]
    },
    {
      "cell_type": "markdown",
      "metadata": {},
      "source": [
        "### Testing multiple conditions"
      ]
    },
    {
      "cell_type": "code",
      "execution_count": 2,
      "metadata": {},
      "outputs": [
        {
          "name": "stdout",
          "output_type": "stream",
          "text": [
            "Adding mushrooms.\n",
            "Adding extra cheese.\n",
            "\n",
            "Finished making your pizza\n"
          ]
        }
      ],
      "source": [
        "requested_toppings = [\"mushrooms\", \"extra-cheese\"]\n",
        "\n",
        "if \"mushrooms\" in requested_toppings:\n",
        "    print(\"Adding mushrooms.\")\n",
        "if \"pepperoni\" in requested_toppings:\n",
        "    print(\"Adding pepperoni.\")\n",
        "if \"extra-cheese\" in requested_toppings:\n",
        "    print(\"Adding extra cheese.\")\n",
        "\n",
        "print(\"\\nFinished making your pizza\")"
      ]
    },
    {
      "cell_type": "code",
      "execution_count": 3,
      "metadata": {},
      "outputs": [
        {
          "name": "stdout",
          "output_type": "stream",
          "text": [
            "Adding mushrooms.\n",
            "\n",
            "Finished making your pizza\n"
          ]
        }
      ],
      "source": [
        "requested_toppings = [\"mushrooms\", \"extra-cheese\"]\n",
        "\n",
        "if \"mushrooms\" in requested_toppings:\n",
        "    print(\"Adding mushrooms.\")\n",
        "elif \"pepperoni\" in requested_toppings:\n",
        "    print(\"Adding pepperoni.\")\n",
        "elif \"extra-cheese\" in requested_toppings:\n",
        "    print(\"Adding extra cheese.\")\n",
        "\n",
        "print(\"\\nFinished making your pizza\")"
      ]
    },
    {
      "cell_type": "markdown",
      "metadata": {},
      "source": [
        "In summary, if you want only one block of code to run, use an if-elif-else chain. If more than one block of code needs to run, use a series of independent if statements"
      ]
    },
    {
      "cell_type": "markdown",
      "metadata": {},
      "source": [
        "### Usinf if statements with lists"
      ]
    },
    {
      "cell_type": "code",
      "execution_count": 4,
      "metadata": {},
      "outputs": [
        {
          "name": "stdout",
          "output_type": "stream",
          "text": [
            "Adding mushrooms.\n",
            "Adding green peppers.\n",
            "Adding extra cheese.\n",
            "\n",
            "Finished making your pizza\n"
          ]
        }
      ],
      "source": [
        "requested_toppings = [\"mushrooms\", \"green peppers\", \"extra cheese\"]\n",
        "\n",
        "for requested_topping in requested_toppings:\n",
        "    print(\"Adding \" + requested_topping + \".\")\n",
        "\n",
        "print(\"\\nFinished making your pizza\")"
      ]
    },
    {
      "cell_type": "code",
      "execution_count": 5,
      "metadata": {},
      "outputs": [
        {
          "name": "stdout",
          "output_type": "stream",
          "text": [
            "Adding mushrooms.\n",
            "Sorry, we are out of green peppers right now.\n",
            "Adding extra cheese.\n",
            "\n",
            "Finished your pizza\n"
          ]
        }
      ],
      "source": [
        "requested_toppings = [\"mushrooms\", \"green peppers\", \"extra cheese\"]\n",
        "\n",
        "for requested_topping in requested_toppings:\n",
        "    if requested_topping == \"green peppers\":\n",
        "        print(\"Sorry, we are out of green peppers right now.\")\n",
        "    else: \n",
        "        print(\"Adding \" + requested_topping + \".\")\n",
        "    \n",
        "print(\"\\nFinished your pizza\")"
      ]
    },
    {
      "cell_type": "markdown",
      "metadata": {},
      "source": [
        "### Checking that a list is not empty"
      ]
    },
    {
      "cell_type": "code",
      "execution_count": 6,
      "metadata": {},
      "outputs": [
        {
          "name": "stdout",
          "output_type": "stream",
          "text": [
            "Are you sure you want a plain pizza?\n"
          ]
        }
      ],
      "source": [
        "requested_toppings = []\n",
        "\n",
        "if requested_toppings:\n",
        "    for requested_topping in requested_toppings:\n",
        "        print(\"Adding \" + requested_topping + \".\")\n",
        "    print(\"\\nFinished making your pizza\")\n",
        "else:\n",
        "    print(\"Are you sure you want a plain pizza?\")"
      ]
    },
    {
      "cell_type": "markdown",
      "metadata": {},
      "source": [
        "### Using multiple lists"
      ]
    },
    {
      "cell_type": "code",
      "execution_count": 8,
      "metadata": {},
      "outputs": [
        {
          "name": "stdout",
          "output_type": "stream",
          "text": [
            "Adding mushrooms.\n",
            "Sorry, we don't have french fries.\n",
            "Adding extra cheese.\n",
            "\n",
            "Finished making your pizza!\n"
          ]
        }
      ],
      "source": [
        "available_toppings = [\"mushrooms\", \"olives\", \"green peppers\", \"pepperoni\", \"pineapple\", \"extra cheese\"]\n",
        "\n",
        "requested_toppings = [\"mushrooms\", \"french fries\", \"extra cheese\"]\n",
        "\n",
        "for requested_topping in requested_toppings:\n",
        "    if requested_topping in available_toppings:\n",
        "        print(\"Adding \" + requested_topping + \".\")\n",
        "    else: \n",
        "        print(\"Sorry, we don't have \" + requested_topping + \".\")\n",
        "    \n",
        "print(\"\\nFinished making your pizza!\")"
      ]
    },
    {
      "cell_type": "markdown",
      "metadata": {},
      "source": [
        "## Dictionaries"
      ]
    },
    {
      "cell_type": "code",
      "execution_count": 10,
      "metadata": {},
      "outputs": [
        {
          "name": "stdout",
          "output_type": "stream",
          "text": [
            "green\n",
            "5\n"
          ]
        }
      ],
      "source": [
        "alien_0 = {\"color\": \"green\", \"points\": 5}\n",
        "\n",
        "print(alien_0[\"color\"])\n",
        "print(alien_0[\"points\"])"
      ]
    },
    {
      "cell_type": "code",
      "execution_count": 11,
      "metadata": {},
      "outputs": [
        {
          "name": "stdout",
          "output_type": "stream",
          "text": [
            "You just earned 5 points!\n"
          ]
        }
      ],
      "source": [
        "new_points = alien_0[\"points\"]\n",
        "print(\"You just earned \" + str(new_points) + \" points!\")"
      ]
    },
    {
      "cell_type": "markdown",
      "metadata": {},
      "source": [
        "### Adding new key-value pairs"
      ]
    },
    {
      "cell_type": "code",
      "execution_count": 12,
      "metadata": {},
      "outputs": [
        {
          "name": "stdout",
          "output_type": "stream",
          "text": [
            "{'color': 'green', 'points': 5, 'x_position': 0, 'y_position': 0}\n"
          ]
        }
      ],
      "source": [
        "alien_0[\"x_position\"] = 0\n",
        "alien_0[\"y_position\"] = 0\n",
        "print(alien_0) "
      ]
    },
    {
      "cell_type": "markdown",
      "metadata": {},
      "source": [
        "### Starting with an empty dictionary"
      ]
    },
    {
      "cell_type": "code",
      "execution_count": 13,
      "metadata": {},
      "outputs": [
        {
          "name": "stdout",
          "output_type": "stream",
          "text": [
            "{'color': 'green', 'points': 5}\n"
          ]
        }
      ],
      "source": [
        "alien_0 = {}\n",
        "\n",
        "alien_0[\"color\"] = \"green\"\n",
        "alien_0[\"points\"] = 5\n",
        "\n",
        "print(alien_0)"
      ]
    },
    {
      "cell_type": "markdown",
      "metadata": {},
      "source": [
        "### Modifying values in a dictionary"
      ]
    },
    {
      "cell_type": "code",
      "execution_count": 15,
      "metadata": {},
      "outputs": [
        {
          "name": "stdout",
          "output_type": "stream",
          "text": [
            "The alien is green.\n",
            "The alien is now yellow.\n"
          ]
        }
      ],
      "source": [
        "alien_0 = {\"color\": \"green\"}\n",
        "print(\"The alien is \" + alien_0[\"color\"] + \".\")\n",
        "\n",
        "alien_0[\"color\"] = \"yellow\"\n",
        "print(\"The alien is now \" + alien_0[\"color\"] + \".\")"
      ]
    },
    {
      "cell_type": "code",
      "execution_count": 17,
      "metadata": {},
      "outputs": [
        {
          "name": "stdout",
          "output_type": "stream",
          "text": [
            "Original x-position: 0\n",
            "New x-position: 2\n"
          ]
        }
      ],
      "source": [
        "alien_0 = {\"x_position\" : 0, \"y_position\": 25, \"speed\": \"medium\"}\n",
        "print(\"Original x-position: \" + str(alien_0[\"x_position\"])) \n",
        "\n",
        "if alien_0[\"speed\"] == \"slow\":\n",
        "    x_increment = 1\n",
        "elif alien_0[\"speed\"] == \"medium\":\n",
        "    x_increment = 2\n",
        "else: \n",
        "    x_increment = 3\n",
        "\n",
        "alien_0[\"x_position\"] = alien_0[\"x_position\"] + x_increment\n",
        "\n",
        "print(\"New x-position: \" + str(alien_0[\"x_position\"]))"
      ]
    },
    {
      "cell_type": "markdown",
      "metadata": {},
      "source": [
        "### A dictionary of similar objects"
      ]
    },
    {
      "cell_type": "code",
      "execution_count": 18,
      "metadata": {},
      "outputs": [],
      "source": [
        "favorite_languages = {\n",
        "    \"jen\": \"python\", \n",
        "    \"sarah\": \"c\", \n",
        "    \"edward\": \"ruby\", \n",
        "    \"phil\": \"python\",\n",
        "}"
      ]
    },
    {
      "cell_type": "code",
      "execution_count": 20,
      "metadata": {},
      "outputs": [
        {
          "name": "stdout",
          "output_type": "stream",
          "text": [
            "Sarah's favorite language is C.\n"
          ]
        }
      ],
      "source": [
        "print(\"Sarah's favorite language is \" + favorite_languages[\"sarah\"].title() + \".\")"
      ]
    }
  ],
  "metadata": {
    "colab": {
      "name": "Crash course on python",
      "provenance": []
    },
    "kernelspec": {
      "display_name": "Python 3.9.13 64-bit",
      "language": "python",
      "name": "python3"
    },
    "language_info": {
      "codemirror_mode": {
        "name": "ipython",
        "version": 3
      },
      "file_extension": ".py",
      "mimetype": "text/x-python",
      "name": "python",
      "nbconvert_exporter": "python",
      "pygments_lexer": "ipython3",
      "version": "3.9.13"
    },
    "vscode": {
      "interpreter": {
        "hash": "aee8b7b246df8f9039afb4144a1f6fd8d2ca17a180786b69acc140d282b71a49"
      }
    }
  },
  "nbformat": 4,
  "nbformat_minor": 0
}
